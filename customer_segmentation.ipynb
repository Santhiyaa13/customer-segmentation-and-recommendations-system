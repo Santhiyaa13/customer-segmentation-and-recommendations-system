{
 "cells": [
  {
   "cell_type": "markdown",
   "id": "bd1c0ce0",
   "metadata": {},
   "source": [
    "# Customer Segmentation and Recommendation System\n",
    "**Authors**: Santhiya K, Abinaya J, Devasudha S\n",
    "\n",
    "This project analyzes customer data, segments them using machine learning algorithms, and recommends products based on behavioral trends."
   ]
  },
  {
   "cell_type": "code",
   "execution_count": null,
   "id": "a135b228",
   "metadata": {},
   "outputs": [],
   "source": [
    "# 📦 Importing Required Libraries\n",
    "import pandas as pd\n",
    "import numpy as np\n",
    "import matplotlib.pyplot as plt\n",
    "import seaborn as sns\n",
    "from sklearn.cluster import KMeans\n",
    "from sklearn.preprocessing import StandardScaler\n",
    "from sklearn.metrics import silhouette_score\n"
   ]
  },
  {
   "cell_type": "code",
   "execution_count": null,
   "id": "b9b28e1b",
   "metadata": {},
   "outputs": [],
   "source": [
    "# 📂 Load Dataset (Replace with your own CSV path or data source)\n",
    "df = pd.read_csv('customer_data.csv')  # Replace with actual dataset\n",
    "df.head()"
   ]
  },
  {
   "cell_type": "code",
   "execution_count": null,
   "id": "d0d1a52b",
   "metadata": {},
   "outputs": [],
   "source": [
    "# 🧹 Data Preprocessing\n",
    "df.dropna(inplace=True)\n",
    "scaler = StandardScaler()\n",
    "scaled_data = scaler.fit_transform(df.select_dtypes(include=[np.number]))"
   ]
  },
  {
   "cell_type": "code",
   "execution_count": null,
   "id": "03f147f8",
   "metadata": {},
   "outputs": [],
   "source": [
    "# 📊 K-Means Clustering\n",
    "kmeans = KMeans(n_clusters=4, random_state=42)\n",
    "clusters = kmeans.fit_predict(scaled_data)\n",
    "df['Cluster'] = clusters\n",
    "df.head()"
   ]
  },
  {
   "cell_type": "code",
   "execution_count": null,
   "id": "7dcdbe5e",
   "metadata": {},
   "outputs": [],
   "source": [
    "# 📈 Visualize Clusters\n",
    "plt.figure(figsize=(8,6))\n",
    "sns.scatterplot(x=scaled_data[:, 0], y=scaled_data[:, 1], hue=clusters, palette='viridis')\n",
    "plt.title('Customer Segments')\n",
    "plt.show()"
   ]
  },
  {
   "cell_type": "code",
   "execution_count": null,
   "id": "0a4c4b3a",
   "metadata": {},
   "outputs": [],
   "source": [
    "# 💡 Sample Recommendation Logic (Rule-based Example)\n",
    "def recommend_products(cluster_id):\n",
    "    if cluster_id == 0:\n",
    "        return ['Product A', 'Product B']\n",
    "    elif cluster_id == 1:\n",
    "        return ['Product C', 'Product D']\n",
    "    else:\n",
    "        return ['Product E']\n",
    "\n",
    "# Recommend for a sample customer\n",
    "sample_cluster = df.loc[0, 'Cluster']\n",
    "recommend_products(sample_cluster)"
   ]
  }
 ],
 "metadata": {},
 "nbformat": 4,
 "nbformat_minor": 5
}